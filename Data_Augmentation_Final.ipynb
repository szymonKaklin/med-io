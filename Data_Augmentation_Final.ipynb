{
 "cells": [
  {
   "cell_type": "markdown",
   "metadata": {},
   "source": [
    "# Data Augmentation"
   ]
  },
  {
   "cell_type": "code",
   "execution_count": 1,
   "metadata": {},
   "outputs": [],
   "source": [
    "import numpy as np \n",
    "import os, random, shutil\n",
    "from PIL import Image"
   ]
  },
  {
   "cell_type": "code",
   "execution_count": 2,
   "metadata": {},
   "outputs": [],
   "source": [
    "from skimage.io import imread, imshow"
   ]
  },
  {
   "cell_type": "code",
   "execution_count": 3,
   "metadata": {},
   "outputs": [],
   "source": [
    "os.mkdir('NIR_Pill_By_Type_And_Filters_Cropped')\n",
    "os.mkdir('NIR_Pill_By_Type_And_Filters_Data_Cropped_and_Pix_Shuffle')\n",
    "os.mkdir('NIR_Pill_By_Type_And_Filters_Data_Augmented')"
   ]
  },
  {
   "cell_type": "code",
   "execution_count": 4,
   "metadata": {},
   "outputs": [],
   "source": [
    "source = 'NIR_Pill_By_Type_And_Filters_Original/'\n",
    "mid = 'NIR_Pill_By_Type_And_Filters_Cropped/'\n",
    "dest = 'NIR_Pill_By_Type_And_Filters_Data_Cropped_and_Pix_Shuffle/'\n",
    "final = 'NIR_Pill_By_Type_And_Filters_Data_Augmented/'"
   ]
  },
  {
   "cell_type": "code",
   "execution_count": 5,
   "metadata": {},
   "outputs": [],
   "source": [
    "labels = ['allo/', 'amio/', 'clari/', 'furo/', 'irb/', 'levo/', 'simva/', 'trama/']\n"
   ]
  },
  {
   "cell_type": "code",
   "execution_count": 6,
   "metadata": {},
   "outputs": [],
   "source": [
    "for label in labels:\n",
    "    \n",
    "    os.mkdir(dest + label)\n",
    "    os.mkdir(mid+label)"
   ]
  },
  {
   "cell_type": "code",
   "execution_count": 7,
   "metadata": {},
   "outputs": [],
   "source": [
    "for label in labels:\n",
    "    \n",
    "    sub_folders = os.listdir(source + label)\n",
    "    \n",
    "    for sub_folder in sub_folders: \n",
    "        \n",
    "        os.mkdir(dest + label + sub_folder)\n",
    "    "
   ]
  },
  {
   "cell_type": "code",
   "execution_count": 8,
   "metadata": {},
   "outputs": [],
   "source": [
    "# Save original images in appropriate folder"
   ]
  },
  {
   "cell_type": "code",
   "execution_count": 9,
   "metadata": {},
   "outputs": [],
   "source": [
    "for label in labels:\n",
    "    \n",
    "    folders = os.listdir(source+ label)\n",
    "    \n",
    "    \n",
    "    for folder in folders: \n",
    "        \n",
    "        if folder != '.DS_Store' and folder.endswith('.HEIC') == False:\n",
    "        \n",
    "            sub_folders = os.listdir(source + label + folder)\n",
    "        \n",
    "            for sub_folder in sub_folders: \n",
    "        \n",
    "                if sub_folder != '.DS_Store' and sub_folder.endswith('.HEIC') == False:\n",
    "        \n",
    "                    image = Image.open(source + label + folder +'/'+ sub_folder )\n",
    "                    image.save(dest + label  + folder + '/' +sub_folder )\n",
    "           "
   ]
  },
  {
   "cell_type": "code",
   "execution_count": 10,
   "metadata": {},
   "outputs": [
    {
     "data": {
      "text/plain": [
       "'trama_8'"
      ]
     },
     "execution_count": 10,
     "metadata": {},
     "output_type": "execute_result"
    }
   ],
   "source": [
    "folder"
   ]
  },
  {
   "cell_type": "markdown",
   "metadata": {},
   "source": [
    "## Now let's convert each image in an array, divide it in 9 squares, shuffle it, recompose the image and assign it to a specifi folder (9 images by folder)"
   ]
  },
  {
   "cell_type": "code",
   "execution_count": 11,
   "metadata": {},
   "outputs": [],
   "source": [
    "# Create new folders to host new images"
   ]
  },
  {
   "cell_type": "code",
   "execution_count": 12,
   "metadata": {},
   "outputs": [],
   "source": [
    "for label in labels:\n",
    "    \n",
    "    folders = os.listdir(dest+ label)\n",
    "    \n",
    "    for folder in folders: \n",
    "        \n",
    "        if folder != '.DS_Store' and folder.endswith('.HEIC') == False:\n",
    "            \n",
    "            os.mkdir(dest + label + 'aug_' + folder)\n",
    "            os.mkdir(dest + label + 'bug_' + folder)\n",
    "            os.mkdir(mid + label + 'aug_' + folder)\n",
    "            os.mkdir(mid + label + 'bug_' + folder)\n",
    "    \n",
    "    "
   ]
  },
  {
   "cell_type": "markdown",
   "metadata": {},
   "source": [
    "## Loop to open each picture, crop it, save each square in the mid folder, concatenate all the arrays as we desire, from array to image and save it in the appropriate folder"
   ]
  },
  {
   "cell_type": "code",
   "execution_count": 13,
   "metadata": {},
   "outputs": [],
   "source": [
    "for label in labels:\n",
    "    \n",
    "    folders = os.listdir(source+ label)\n",
    "    \n",
    "    \n",
    "    for folder in folders: \n",
    "        \n",
    "        if folder != '.DS_Store' and folder.endswith('.HEIC') == False:\n",
    "        \n",
    "            sub_folders = os.listdir(source + label + folder)\n",
    "        \n",
    "            for sub_folder in sub_folders: \n",
    "        \n",
    "                if sub_folder != '.DS_Store' and sub_folder.endswith('.HEIC') == False:\n",
    "                \n",
    "                    image = Image.open(source + label + folder + '/' + sub_folder)\n",
    "                    \n",
    "                    image_width = 1080;\n",
    "                    image_height = 720;\n",
    "                     \n",
    "                    image_1 = image.crop((0, 0, 360,240))\n",
    "                    image_2= image.crop((360, 0, 720,240))\n",
    "                    image_3 = image.crop((720, 0, 1080,240))\n",
    "                    image_4 = image.crop((0, 240, 360,480))\n",
    "                    image_5 = image.crop((360, 240, 720,480))\n",
    "                    image_6 = image.crop((720, 240, 1080,480))\n",
    "                    image_7 = image.crop((0, 480, 360,720))\n",
    "                    image_8 = image.crop((360, 480, 720,720))\n",
    "                    image_9 = image.crop((720, 480, 1080,720))\n",
    "                    \n",
    "                    image_1.save(mid + label  + 'aug_'+ folder + '/' + '1_' +  sub_folder )\n",
    "                    image_2.save(mid + label   +'aug_'+ folder + '/' + '2_' +  sub_folder )\n",
    "                    image_3.save(mid + label   + 'aug_'+folder + '/' + '3_' +  sub_folder)\n",
    "                    image_4.save(mid + label  + 'aug_'+folder + '/' + '4_' +  sub_folder )\n",
    "                    image_5.save(mid + label   +'aug_'+ folder + '/' + '5_' +  sub_folder )\n",
    "                    image_6.save(mid + label + 'aug_'+folder + '/' + '6_' +  sub_folder )\n",
    "                    image_7.save(mid + label   + 'aug_'+folder + '/' + '7_' +  sub_folder )\n",
    "                    image_8.save(mid + label + 'aug_'+folder + '/' + '8_' +  sub_folder )\n",
    "                    image_9.save(mid + label  + 'aug_'+folder + '/' + '9_' +  sub_folder )\n",
    "                    \n",
    "                    image_1_value = imread(mid + label  +'aug_'+ folder + '/' + '1_' +  sub_folder )\n",
    "                    image_2_value = imread(mid + label  + 'aug_'+folder + '/' + '2_' +  sub_folder )\n",
    "                    image_3_value = imread(mid + label  + 'aug_'+folder + '/' + '3_' +  sub_folder )\n",
    "                    image_4_value = imread(mid + label  + 'aug_'+folder + '/' + '4_' +  sub_folder )\n",
    "                    image_5_value = imread(mid + label  + 'aug_'+folder + '/' + '5_' +  sub_folder )\n",
    "                    image_6_value = imread(mid + label  + 'aug_'+folder + '/' + '6_' +  sub_folder )\n",
    "                    image_7_value = imread(mid + label  + 'aug_'+folder + '/' + '7_' +  sub_folder )\n",
    "                    image_8_value = imread(mid + label  + 'aug_'+folder + '/' + '8_' +  sub_folder )\n",
    "                    image_9_value = imread(mid + label  + 'aug_'+folder + '/' + '9_' +  sub_folder )\n",
    "                    \n",
    "                    image_recomposed_1 = np.concatenate((image_4_value, image_5_value,image_6_value), axis=1)\n",
    "                    image_recomposed_2 = np.concatenate((image_1_value, image_2_value,image_3_value), axis=1)\n",
    "                    image_recomposed_3 = np.concatenate((image_7_value, image_8_value,image_9_value), axis=1)\n",
    "                    \n",
    "                    image_recomposed = np.concatenate((image_recomposed_1, image_recomposed_2,image_recomposed_3), axis=0)\n",
    "                    \n",
    "                    img = Image.fromarray(image_recomposed, 'RGB')\n",
    "                    img.save(dest + label + 'aug_' + folder + '/' + 'aug_' +sub_folder )"
   ]
  },
  {
   "cell_type": "code",
   "execution_count": 14,
   "metadata": {},
   "outputs": [],
   "source": [
    "for label in labels:\n",
    "    \n",
    "    folders = os.listdir(source+ label)\n",
    "    \n",
    "    \n",
    "    for folder in folders: \n",
    "        \n",
    "        if folder != '.DS_Store' and folder.endswith('.HEIC') == False:\n",
    "        \n",
    "            sub_folders = os.listdir(source + label + folder)\n",
    "        \n",
    "            for sub_folder in sub_folders: \n",
    "        \n",
    "                if sub_folder != '.DS_Store' and sub_folder.endswith('.HEIC') == False:\n",
    "                \n",
    "                    image = Image.open(source + label + folder + '/' + sub_folder)\n",
    "                    \n",
    "                    image_1 = image.crop((0, 0, 360,240))\n",
    "                    image_2= image.crop((360, 0, 720,240))\n",
    "                    image_3 = image.crop((720, 0, 1080,240))\n",
    "                    image_4 = image.crop((0, 240, 360,480))\n",
    "                    image_5 = image.crop((360, 240, 720,480))\n",
    "                    image_6 = image.crop((720, 240, 1080,480))\n",
    "                    image_7 = image.crop((0, 480, 360,720))\n",
    "                    image_8 = image.crop((360, 480, 720,720))\n",
    "                    image_9 = image.crop((720, 480, 1080,720))\n",
    "                    \n",
    "                    image_1.save(mid + label  + 'bug_'+ folder + '/' + '1_' +  sub_folder )\n",
    "                    image_2.save(mid + label   +'bug_'+ folder + '/' + '2_' +  sub_folder )\n",
    "                    image_3.save(mid + label   + 'bug_'+folder + '/' + '3_' +  sub_folder)\n",
    "                    image_4.save(mid + label  + 'bug_'+folder + '/' + '4_' +  sub_folder )\n",
    "                    image_5.save(mid + label   +'bug_'+ folder + '/' + '5_' +  sub_folder )\n",
    "                    image_6.save(mid + label + 'bug_'+folder + '/' + '6_' +  sub_folder )\n",
    "                    image_7.save(mid + label   + 'bug_'+folder + '/' + '7_' +  sub_folder )\n",
    "                    image_8.save(mid + label + 'bug_'+folder + '/' + '8_' +  sub_folder )\n",
    "                    image_9.save(mid + label  + 'bug_'+folder + '/' + '9_' +  sub_folder )\n",
    "                    \n",
    "                    image_1_value = imread(mid + label  +'bug_'+ folder + '/' + '1_' +  sub_folder )\n",
    "                    image_2_value = imread(mid + label  + 'bug_'+folder + '/' + '2_' +  sub_folder )\n",
    "                    image_3_value = imread(mid + label  + 'bug_'+folder + '/' + '3_' +  sub_folder )\n",
    "                    image_4_value = imread(mid + label  + 'bug_'+folder + '/' + '4_' +  sub_folder )\n",
    "                    image_5_value = imread(mid + label  + 'bug_'+folder + '/' + '5_' +  sub_folder )\n",
    "                    image_6_value = imread(mid + label  + 'bug_'+folder + '/' + '6_' +  sub_folder )\n",
    "                    image_7_value = imread(mid + label  + 'bug_'+folder + '/' + '7_' +  sub_folder )\n",
    "                    image_8_value = imread(mid + label  + 'bug_'+folder + '/' + '8_' +  sub_folder )\n",
    "                    image_9_value = imread(mid + label  + 'bug_'+folder + '/' + '9_' +  sub_folder )\n",
    "                    \n",
    "                    image_recomposed_1 = np.concatenate((image_4_value, image_2_value,image_8_value), axis=1)\n",
    "                    image_recomposed_2 = np.concatenate((image_9_value, image_7_value,image_3_value), axis=1)\n",
    "                    image_recomposed_3 = np.concatenate((image_5_value, image_6_value,image_1_value), axis=1)\n",
    "                    \n",
    "                    image_recomposed = np.concatenate((image_recomposed_1, image_recomposed_2,image_recomposed_3), axis=0)\n",
    "                    \n",
    "                    img = Image.fromarray(image_recomposed, 'RGB')\n",
    "                    img.save(dest + label + 'bug_' + folder + '/' + 'bug_' +sub_folder )"
   ]
  },
  {
   "cell_type": "markdown",
   "metadata": {},
   "source": [
    "# Resize"
   ]
  },
  {
   "cell_type": "code",
   "execution_count": 15,
   "metadata": {},
   "outputs": [],
   "source": [
    "os.mkdir('Multi_new_reconstitué_resized')\n",
    "resize_dest = 'Multi_new_reconstitué_resized/'\n",
    "\n",
    "for label in labels:\n",
    "    \n",
    "    os.mkdir(resize_dest + label)\n",
    "    sub_folders = os.listdir(dest + label)\n",
    "    \n",
    "    for sub_folder in sub_folders: \n",
    "        \n",
    "        os.mkdir(resize_dest + label + sub_folder)\n",
    "        "
   ]
  },
  {
   "cell_type": "code",
   "execution_count": 16,
   "metadata": {},
   "outputs": [],
   "source": [
    "# because some files in NIR_pills have the same name so we add i to differenciate them \n",
    "\n",
    "for label in labels:\n",
    "  \n",
    "    \n",
    "    files_NIR = os.listdir(dest + label)\n",
    "    \n",
    "    for file_NIR in files_NIR: \n",
    "        \n",
    "        if file_NIR != '.DS_Store':\n",
    "            \n",
    "            images_NIR = os.listdir(dest + label + file_NIR)\n",
    "            for image_NIR in images_NIR:\n",
    "                 if image_NIR != '.DS_Store':\n",
    "                        \n",
    "        \n",
    "                     image = Image.open(dest + label + file_NIR +'/'+ image_NIR)\n",
    "                     new_image = image.resize((270,180))\n",
    "                     new_image.save(resize_dest+ label  + file_NIR + '/' +image_NIR )\n",
    "                     \n",
    "           "
   ]
  },
  {
   "cell_type": "markdown",
   "metadata": {},
   "source": [
    "# Rotation"
   ]
  },
  {
   "cell_type": "code",
   "execution_count": 17,
   "metadata": {},
   "outputs": [],
   "source": [
    "for label in labels:\n",
    "    files_NIR = os.listdir(dest + label)\n",
    "    os.mkdir(final + label)\n",
    "\n",
    "    for file_NIR in files_NIR:\n",
    "\n",
    "        if file_NIR != '.DS_Store':\n",
    "            \n",
    "            os.mkdir(final + label+ file_NIR)\n",
    "            os.mkdir(final + label + file_NIR  + '_180°')\n",
    "    \n",
    "            photos_NIR = os.listdir(dest + label + file_NIR)\n",
    "\n",
    "            for photo_NIR in photos_NIR:\n",
    "\n",
    "                if photo_NIR != '.DS_Store':\n",
    "\n",
    "                    colorImage = Image.open(resize_dest + label + file_NIR + '/' + photo_NIR )\n",
    "                    transposed_180 = colorImage.transpose(Image.ROTATE_180)\n",
    "                    transposed_180.save(final + label + file_NIR  + '_180°/'+photo_NIR)"
   ]
  },
  {
   "cell_type": "code",
   "execution_count": 18,
   "metadata": {},
   "outputs": [],
   "source": [
    "for label in labels:\n",
    "    files_NIR = os.listdir(dest + label)\n",
    "\n",
    "    for file_NIR in files_NIR:\n",
    "\n",
    "        photos_NIR = os.listdir(dest + label + file_NIR)\n",
    "\n",
    "        for photo_NIR in photos_NIR:\n",
    "\n",
    "            if photo_NIR != '.DS_Store':\n",
    "\n",
    "                colorImage = Image.open(resize_dest + label + file_NIR + '/' + photo_NIR )\n",
    "                colorImage.save(final + label + file_NIR + '/'+ photo_NIR)"
   ]
  },
  {
   "cell_type": "code",
   "execution_count": null,
   "metadata": {},
   "outputs": [],
   "source": []
  }
 ],
 "metadata": {
  "kernelspec": {
   "display_name": "Python 3",
   "language": "python",
   "name": "python3"
  },
  "language_info": {
   "codemirror_mode": {
    "name": "ipython",
    "version": 3
   },
   "file_extension": ".py",
   "mimetype": "text/x-python",
   "name": "python",
   "nbconvert_exporter": "python",
   "pygments_lexer": "ipython3",
   "version": "3.8.5"
  }
 },
 "nbformat": 4,
 "nbformat_minor": 5
}
