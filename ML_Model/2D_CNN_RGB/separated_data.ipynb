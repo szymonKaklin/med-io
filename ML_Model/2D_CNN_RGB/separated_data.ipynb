{
 "cells": [
  {
   "cell_type": "markdown",
   "metadata": {},
   "source": [
    "## First we separate the images into three new folders, Train, Test, Validate"
   ]
  },
  {
   "cell_type": "code",
   "execution_count": null,
   "metadata": {},
   "outputs": [],
   "source": []
  },
  {
   "cell_type": "code",
   "execution_count": 1,
   "metadata": {},
   "outputs": [],
   "source": [
    "import os, random, shutil\n",
    "import pandas as pd"
   ]
  },
  {
   "cell_type": "code",
   "execution_count": 2,
   "metadata": {},
   "outputs": [
    {
     "data": {
      "text/plain": [
       "\"\\nScript that separates initial dataset into a train, validation and test datasets.\\nInitial dataset should have the following form:\\n    - 'initial_dataset' (Folder)\\n    - Inside 'initial_dataset' folder:\\n        - 1 folder for each pill, with the images of the pill inside the folder\\nCHANGES TO MAKE WHEN RUNNING THE SCRIPT:\\n    - Change name of elements inside 'labels' array to have the names of the pills in the dataset   \\nFinal dataset obtained will have the following form:\\n    - 'final_dataset' (Folder)\\n    - Inside 'final_dataset' folder:\\n        - 'train' (folder): Images to be used in model training\\n            - Inside 'train' folder: 1 folder for each pill containing images\\n        - 'val' (folder): Images to be used in model validation\\n            - Inside 'val' folder: 1 folder for each pill containing images\\n        - 'test' (folder): Images to be used in model testing\\n            - Inside 'test' folder: 1 folder for each pill containing images  \\n\""
      ]
     },
     "execution_count": 2,
     "metadata": {},
     "output_type": "execute_result"
    }
   ],
   "source": [
    "\n",
    "'''\n",
    "Script that separates initial dataset into a train, validation and test datasets.\n",
    "Initial dataset should have the following form:\n",
    "    - 'initial_dataset' (Folder)\n",
    "    - Inside 'initial_dataset' folder:\n",
    "        - 1 folder for each pill, with the images of the pill inside the folder\n",
    "CHANGES TO MAKE WHEN RUNNING THE SCRIPT:\n",
    "    - Change name of elements inside 'labels' array to have the names of the pills in the dataset   \n",
    "Final dataset obtained will have the following form:\n",
    "    - 'final_dataset' (Folder)\n",
    "    - Inside 'final_dataset' folder:\n",
    "        - 'train' (folder): Images to be used in model training\n",
    "            - Inside 'train' folder: 1 folder for each pill containing images\n",
    "        - 'val' (folder): Images to be used in model validation\n",
    "            - Inside 'val' folder: 1 folder for each pill containing images\n",
    "        - 'test' (folder): Images to be used in model testing\n",
    "            - Inside 'test' folder: 1 folder for each pill containing images  \n",
    "'''"
   ]
  },
  {
   "cell_type": "code",
   "execution_count": 3,
   "metadata": {},
   "outputs": [],
   "source": [
    "source = 'Every_NIR_Pill_Of_The_Same_Type_In_One_Folder/'\n",
    "\n",
    "# Substitute with names of pills inside your source dataset\n",
    "labels = ['allo/', 'amio/', 'clari/', 'furo/', 'irb/', 'levo/', 'simva/', 'trama/']\n",
    "os.mkdir('Every_NIR_Pill_Of_The_Same_Type_by_val_train_test/')\n",
    "dest = 'Every_NIR_Pill_Of_The_Same_Type_by_val_train_test/'"
   ]
  },
  {
   "cell_type": "code",
   "execution_count": 4,
   "metadata": {},
   "outputs": [],
   "source": [
    "for phase in  ['train/', 'test/', 'val/']:\n",
    "    # Creating a directory for each phase of model usage\n",
    "    os.mkdir(dest + phase)\n",
    "     # Creating a directory for each pill inside each model phase\n",
    "    for label in labels:\n",
    "        os.mkdir(dest + phase + label)\n"
   ]
  },
  {
   "cell_type": "code",
   "execution_count": 5,
   "metadata": {},
   "outputs": [],
   "source": [
    "for label in labels:\n",
    "    files = os.listdir(source + label)\n",
    "\n",
    "    # Sorting and randomly shuffling images\n",
    "    files.sort()\n",
    "    random.seed(230)\n",
    "    random.shuffle(files)\n",
    "\n",
    "    # Applying separation of 70% train, 20% validation and 10% test\n",
    "    split_train = int(0.7 * len(files))\n",
    "    split_val = int(0.9 * len(files))\n",
    "\n",
    "    # Separating images into train, validation and testing\n",
    "    train_files = files[:split_train]\n",
    "    val_files = files[split_train:split_val]\n",
    "    test_files = files[split_val:]\n",
    "\n",
    "    # Moving images to each respective folder\n",
    "    for f in train_files:\n",
    "        shutil.move(source + label + f, dest + 'train/' + label)\n",
    "\n",
    "    for f in val_files:\n",
    "        shutil.move(source + label + f, dest + 'val/' + label)\n",
    "\n",
    "    for f in test_files:\n",
    "        shutil.move(source + label + f, dest + 'test/' + label)\n",
    "        \n"
   ]
  },
  {
   "cell_type": "code",
   "execution_count": null,
   "metadata": {},
   "outputs": [],
   "source": [
    "import numpy as np"
   ]
  },
  {
   "cell_type": "code",
   "execution_count": null,
   "metadata": {},
   "outputs": [],
   "source": [
    "(0.05)/(1000*np.pi*(0.003*0.003))"
   ]
  },
  {
   "cell_type": "code",
   "execution_count": null,
   "metadata": {},
   "outputs": [],
   "source": [
    "20*np.log10(12500)"
   ]
  },
  {
   "cell_type": "code",
   "execution_count": null,
   "metadata": {},
   "outputs": [],
   "source": []
  }
 ],
 "metadata": {
  "kernelspec": {
   "display_name": "Python 3",
   "language": "python",
   "name": "python3"
  },
  "language_info": {
   "codemirror_mode": {
    "name": "ipython",
    "version": 3
   },
   "file_extension": ".py",
   "mimetype": "text/x-python",
   "name": "python",
   "nbconvert_exporter": "python",
   "pygments_lexer": "ipython3",
   "version": "3.6.13"
  }
 },
 "nbformat": 4,
 "nbformat_minor": 4
}
