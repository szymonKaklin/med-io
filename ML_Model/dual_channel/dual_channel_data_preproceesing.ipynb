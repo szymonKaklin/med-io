{
 "cells": [
  {
   "cell_type": "markdown",
   "metadata": {},
   "source": [
    "## For the dual-channel, both data set need to be the same length and the images need to be of the same size. In this case we choose 400x400"
   ]
  },
  {
   "cell_type": "code",
   "execution_count": null,
   "metadata": {},
   "outputs": [],
   "source": [
    "pip install natsort"
   ]
  },
  {
   "cell_type": "code",
   "execution_count": 1,
   "metadata": {},
   "outputs": [],
   "source": [
    "import numpy as np \n",
    "import os, random, shutil\n",
    "from PIL import Image\n",
    "from skimage.io import imread, imshow"
   ]
  },
  {
   "cell_type": "code",
   "execution_count": 3,
   "metadata": {},
   "outputs": [],
   "source": [
    "os.mkdir('Dual_Channel_NIR_Images_resized_400x400')"
   ]
  },
  {
   "cell_type": "code",
   "execution_count": 4,
   "metadata": {},
   "outputs": [],
   "source": [
    "source = 'Multi_new_reconstitué/'\n",
    "dest = 'Dual_Channel_NIR_Images_resized_400x400/'"
   ]
  },
  {
   "cell_type": "code",
   "execution_count": 5,
   "metadata": {},
   "outputs": [],
   "source": [
    "labels = ['allo/', 'amio/', 'clari/', 'furo/', 'irb/', 'levo/', 'simva/', 'trama/']"
   ]
  },
  {
   "cell_type": "code",
   "execution_count": 42,
   "metadata": {},
   "outputs": [],
   "source": [
    "for label in labels:\n",
    "    os.mkdir(dest + label)"
   ]
  },
  {
   "cell_type": "code",
   "execution_count": 43,
   "metadata": {},
   "outputs": [],
   "source": [
    "i = 0\n",
    "for label in labels:\n",
    "    \n",
    "    folders = os.listdir(source+ label)\n",
    "    \n",
    "    \n",
    "    for folder in folders: \n",
    "        \n",
    "        if folder != '.DS_Store' and folder.endswith('.HEIC') == False:\n",
    "        \n",
    "            sub_folders = os.listdir(source + label + folder)\n",
    "        \n",
    "            for sub_folder in sub_folders: \n",
    "        \n",
    "                if sub_folder != '.DS_Store' and sub_folder.endswith('.HEIC') == False:\n",
    "        \n",
    "                    image = Image.open(source + label + folder +'/'+ sub_folder )\n",
    "                    new_image = image.resize((400,400))\n",
    "                    new_image.save(dest + label + folder + str(i) + '_' + sub_folder )\n",
    "                    i += 1\n",
    "           "
   ]
  },
  {
   "cell_type": "code",
   "execution_count": 34,
   "metadata": {},
   "outputs": [],
   "source": []
  },
  {
   "cell_type": "code",
   "execution_count": 37,
   "metadata": {},
   "outputs": [],
   "source": []
  },
  {
   "cell_type": "code",
   "execution_count": null,
   "metadata": {},
   "outputs": [],
   "source": []
  }
 ],
 "metadata": {
  "kernelspec": {
   "display_name": "Python 3",
   "language": "python",
   "name": "python3"
  },
  "language_info": {
   "codemirror_mode": {
    "name": "ipython",
    "version": 3
   },
   "file_extension": ".py",
   "mimetype": "text/x-python",
   "name": "python",
   "nbconvert_exporter": "python",
   "pygments_lexer": "ipython3",
   "version": "3.6.13"
  }
 },
 "nbformat": 4,
 "nbformat_minor": 4
}
