{
  "nbformat": 4,
  "nbformat_minor": 0,
  "metadata": {
    "kernelspec": {
      "display_name": "Python 3",
      "language": "python",
      "name": "python3"
    },
    "language_info": {
      "codemirror_mode": {
        "name": "ipython",
        "version": 3
      },
      "file_extension": ".py",
      "mimetype": "text/x-python",
      "name": "python",
      "nbconvert_exporter": "python",
      "pygments_lexer": "ipython3",
      "version": "3.6.13"
    },
    "colab": {
      "name": "Run_Dual_Channel.ipynb",
      "provenance": [],
      "collapsed_sections": [],
      "machine_shape": "hm"
    },
    "accelerator": "GPU"
  },
  "cells": [
    {
      "cell_type": "markdown",
      "metadata": {
        "id": "wXDt5b_XcKbm"
      },
      "source": [
        "# Dual-Channel CNN"
      ]
    },
    {
      "cell_type": "markdown",
      "metadata": {
        "id": "FUCf8T8LcKbn"
      },
      "source": [
        "## Import relevant Libraries"
      ]
    },
    {
      "cell_type": "code",
      "metadata": {
        "id": "yJyPnDkHcKbn"
      },
      "source": [
        "import pandas as pd\n",
        "import numpy as np\n",
        "from sklearn.model_selection import train_test_split\n",
        "from matplotlib import pyplot as plt\n",
        "%matplotlib inline\n",
        "import os, random, shutil\n",
        "from skimage.io import imread, imshow\n",
        "from skimage.filters import prewitt_h, prewitt_v"
      ],
      "execution_count": 1,
      "outputs": []
    },
    {
      "cell_type": "code",
      "metadata": {
        "id": "qrnmdYQzcKbn"
      },
      "source": [
        "import h5py"
      ],
      "execution_count": 2,
      "outputs": []
    },
    {
      "cell_type": "code",
      "metadata": {
        "id": "k-cL7AsvcKbn"
      },
      "source": [
        "import keras\n",
        "from keras import optimizers\n",
        "from keras.utils import to_categorical\n",
        "from keras.layers import Input, Dense, Flatten, Dropout, Conv2D, MaxPooling2D, Activation, concatenate\n",
        "from keras.layers.advanced_activations import LeakyReLU\n",
        "from keras.models import Model\n",
        "from keras.callbacks import ModelCheckpoint"
      ],
      "execution_count": 3,
      "outputs": []
    },
    {
      "cell_type": "code",
      "metadata": {
        "id": "m-rtfCaOLToi"
      },
      "source": [
        "from tensorflow.keras.preprocessing import image\n",
        "from PIL import Image\n",
        "import numpy as np"
      ],
      "execution_count": 4,
      "outputs": []
    },
    {
      "cell_type": "code",
      "metadata": {
        "id": "9bn6-YCfcMAV",
        "colab": {
          "base_uri": "https://localhost:8080/"
        },
        "outputId": "56c5211e-9435-4e25-900c-061a289303df"
      },
      "source": [
        "from google.colab import drive\n",
        "\n",
        "drive.mount('/content/gdrive')"
      ],
      "execution_count": 5,
      "outputs": [
        {
          "output_type": "stream",
          "text": [
            "Mounted at /content/gdrive\n"
          ],
          "name": "stdout"
        }
      ]
    },
    {
      "cell_type": "markdown",
      "metadata": {
        "id": "qSei0QvlcKbo"
      },
      "source": [
        "new file with formated images "
      ]
    },
    {
      "cell_type": "markdown",
      "metadata": {
        "id": "EHVSNxYlcKbo"
      },
      "source": [
        "## Create A Data Frame For Labels"
      ]
    },
    {
      "cell_type": "code",
      "metadata": {
        "id": "SwuGR29ywx1M"
      },
      "source": [
        "labels = ['allo/', 'amio/', 'clari/', 'furo/', 'irb/', 'levo/', 'simva/', 'trama/']"
      ],
      "execution_count": 7,
      "outputs": []
    },
    {
      "cell_type": "code",
      "metadata": {
        "id": "8gbFc39dw3dT"
      },
      "source": [
        "kinds = ['RGB_formated', 'Dual_Channel_NIR_Images_resized_400x400']\n",
        "\n",
        "drive_path = 'gdrive/My Drive/'\n",
        "source_RGB = drive_path + 'RGB_formated/'\n",
        "source_NIR = drive_path +  'Dual_Channel_NIR_Images_resized_400x400/'\n"
      ],
      "execution_count": 8,
      "outputs": []
    },
    {
      "cell_type": "code",
      "metadata": {
        "id": "T0nh6ptGwq9X"
      },
      "source": [
        "for label in labels:\n",
        "    files_RGB = os.listdir(source_RGB + label)\n",
        "    files_NIR = os.listdir(source_NIR + label)\n",
        "    for file_NIR in files_NIR:\n",
        "        if file_NIR == '.DS_Store':\n",
        "            #shutil.rmtree(dest + label + file_NIR)\n",
        "            os.remove(source_NIR+label+file_NIR)\n",
        "    for file_RGB in files_RGB:\n",
        "        if file_RGB == '.DS_Store':\n",
        "            #shutil.rmtree(dest + label + file_NIR)\n",
        "            os.remove(source_RGB+label+file_RGB)"
      ],
      "execution_count": 9,
      "outputs": []
    },
    {
      "cell_type": "code",
      "metadata": {
        "id": "m69kosNAw0Qz"
      },
      "source": [
        "for label in labels:\n",
        "    files_NIR = os.listdir(source_NIR + label)\n",
        "    \n",
        "\n",
        "    for files_NIR in files_NIR:\n",
        "        \n",
        "        if file_NIR == '.DS_Store':\n",
        "        #shutil.rmtree(dest + label + file_NIR)\n",
        "            os.remove(source_NIR +label+file_NIR)\n",
        "        if file_NIR.find('(1)') != -1:\n",
        "            print( file_NIR)\n",
        "            os.remove(source_NIR+label+file_NIR)\n",
        "\n",
        "for label in labels:\n",
        "\n",
        "     files_RGB = os.listdir(source_RGB + label)\n",
        "\n",
        "     for file_RGB in files_RGB:\n",
        "        \n",
        "         if file_RGB == '.DS_Store':\n",
        "          #shutil.rmtree(dest + label + file_RGB)\n",
        "             os.remove(source_RGB +label+file_RGB)\n",
        "         if file_RGB.find('(1)') != -1: # (1) refers to files that are in multiple version, ex: image_1.png and image_1(1).png\n",
        "             print( file_RGB)\n",
        "             os.remove(source_RGB+label+file_RGB+'/'+image_RGB)\n"
      ],
      "execution_count": 10,
      "outputs": []
    },
    {
      "cell_type": "markdown",
      "metadata": {
        "id": "wjHCgbuLA5zo"
      },
      "source": [
        "#Remove files in one of the dataset, in this case NIR has 453 files more than RGB dataset. We remove them randomly and equaly across folders"
      ]
    },
    {
      "cell_type": "code",
      "metadata": {
        "id": "LPKrF7Ih5uPb"
      },
      "source": [
        "from random import sample\n",
        "\n",
        "for label in labels:\n",
        "    \n",
        "    files = os.listdir(source_NIR + label)\n",
        "\n",
        "    for file in sample(files,453):\n",
        "        os.remove( source_NIR +label + file)"
      ],
      "execution_count": null,
      "outputs": []
    },
    {
      "cell_type": "code",
      "metadata": {
        "id": "YEQfALyIcKbo"
      },
      "source": [
        "\n",
        "\n",
        "RGB_ID = []\n",
        "RGB_Pill_name = []\n",
        "NIR_ID = []\n",
        "NIR_Pill_name = []\n",
        "\n",
        "\n",
        "\n",
        "\n",
        "for label in labels:\n",
        "    files_RGB = os.listdir( source_RGB + label)\n",
        "    files_NIR = os.listdir(source_NIR + label)\n",
        "    \n",
        "    for file_RGB in files_RGB: \n",
        "        RGB_ID.append(file_RGB)\n",
        "        RGB_Pill_name.append(label.translate({ord('/'): None}))\n",
        "    \n",
        "    for file_NIR in files_NIR: \n",
        "        NIR_ID.append(file_NIR)\n",
        "        NIR_Pill_name.append(label.translate({ord('/'): None}))\n",
        "        \n",
        "\n",
        "rgb = {'RGB_ID': RGB_ID , 'Pill_name': RGB_Pill_name }\n",
        "nir = {'NIR_ID': NIR_ID , 'Pill_name': NIR_Pill_name }\n",
        "\n",
        "RGB_df = pd.DataFrame(data=rgb)\n",
        "NIR_df = pd.DataFrame(data=nir)"
      ],
      "execution_count": 11,
      "outputs": []
    },
    {
      "cell_type": "code",
      "metadata": {
        "id": "Sz27kfcXcKbp",
        "colab": {
          "base_uri": "https://localhost:8080/",
          "height": 419
        },
        "outputId": "b3486593-538f-4a0e-ff39-ff4f44940832"
      },
      "source": [
        "NIR_df #4407"
      ],
      "execution_count": 12,
      "outputs": [
        {
          "output_type": "execute_result",
          "data": {
            "text/html": [
              "<div>\n",
              "<style scoped>\n",
              "    .dataframe tbody tr th:only-of-type {\n",
              "        vertical-align: middle;\n",
              "    }\n",
              "\n",
              "    .dataframe tbody tr th {\n",
              "        vertical-align: top;\n",
              "    }\n",
              "\n",
              "    .dataframe thead th {\n",
              "        text-align: right;\n",
              "    }\n",
              "</style>\n",
              "<table border=\"1\" class=\"dataframe\">\n",
              "  <thead>\n",
              "    <tr style=\"text-align: right;\">\n",
              "      <th></th>\n",
              "      <th>NIR_ID</th>\n",
              "      <th>Pill_name</th>\n",
              "    </tr>\n",
              "  </thead>\n",
              "  <tbody>\n",
              "    <tr>\n",
              "      <th>0</th>\n",
              "      <td>bug_allo_32_bug_image6.jpg</td>\n",
              "      <td>allo</td>\n",
              "    </tr>\n",
              "    <tr>\n",
              "      <th>1</th>\n",
              "      <td>bug_allo_410_bug_image8.jpg</td>\n",
              "      <td>allo</td>\n",
              "    </tr>\n",
              "    <tr>\n",
              "      <th>2</th>\n",
              "      <td>aug_allo_1979_aug_image8.jpg</td>\n",
              "      <td>allo</td>\n",
              "    </tr>\n",
              "    <tr>\n",
              "      <th>3</th>\n",
              "      <td>aug_allo_1974_aug_image4.jpg</td>\n",
              "      <td>allo</td>\n",
              "    </tr>\n",
              "    <tr>\n",
              "      <th>4</th>\n",
              "      <td>aug_allo_870_aug_image8.jpg</td>\n",
              "      <td>allo</td>\n",
              "    </tr>\n",
              "    <tr>\n",
              "      <th>...</th>\n",
              "      <td>...</td>\n",
              "      <td>...</td>\n",
              "    </tr>\n",
              "    <tr>\n",
              "      <th>778</th>\n",
              "      <td>aug_trama_144312_aug_image9.jpg</td>\n",
              "      <td>trama</td>\n",
              "    </tr>\n",
              "    <tr>\n",
              "      <th>779</th>\n",
              "      <td>aug_trama_134300_aug_image2.jpg</td>\n",
              "      <td>trama</td>\n",
              "    </tr>\n",
              "    <tr>\n",
              "      <th>780</th>\n",
              "      <td>aug_trama_154340_aug_image9.jpg</td>\n",
              "      <td>trama</td>\n",
              "    </tr>\n",
              "    <tr>\n",
              "      <th>781</th>\n",
              "      <td>aug_trama_124341_aug_image7.jpg</td>\n",
              "      <td>trama</td>\n",
              "    </tr>\n",
              "    <tr>\n",
              "      <th>782</th>\n",
              "      <td>aug_trama_134297_aug_image4.jpg</td>\n",
              "      <td>trama</td>\n",
              "    </tr>\n",
              "  </tbody>\n",
              "</table>\n",
              "<p>783 rows × 2 columns</p>\n",
              "</div>"
            ],
            "text/plain": [
              "                              NIR_ID Pill_name\n",
              "0         bug_allo_32_bug_image6.jpg      allo\n",
              "1        bug_allo_410_bug_image8.jpg      allo\n",
              "2       aug_allo_1979_aug_image8.jpg      allo\n",
              "3       aug_allo_1974_aug_image4.jpg      allo\n",
              "4        aug_allo_870_aug_image8.jpg      allo\n",
              "..                               ...       ...\n",
              "778  aug_trama_144312_aug_image9.jpg     trama\n",
              "779  aug_trama_134300_aug_image2.jpg     trama\n",
              "780  aug_trama_154340_aug_image9.jpg     trama\n",
              "781  aug_trama_124341_aug_image7.jpg     trama\n",
              "782  aug_trama_134297_aug_image4.jpg     trama\n",
              "\n",
              "[783 rows x 2 columns]"
            ]
          },
          "metadata": {
            "tags": []
          },
          "execution_count": 12
        }
      ]
    },
    {
      "cell_type": "code",
      "metadata": {
        "id": "EeXCeWZfcKbp"
      },
      "source": [
        "# Create a folder with evrything RGB and other one with NIR"
      ],
      "execution_count": 13,
      "outputs": []
    },
    {
      "cell_type": "code",
      "metadata": {
        "id": "Si6q0kugyMmq"
      },
      "source": [
        "dest_rgb = drive_path + 'RGB_tout/' #if code already run before just run this cell and not the two following ones\n",
        "dest_nir = drive_path + 'NIR_tout/'"
      ],
      "execution_count": 14,
      "outputs": []
    },
    {
      "cell_type": "code",
      "metadata": {
        "id": "4MplAduncKbp"
      },
      "source": [
        "kinds = ['RGB_tout', 'NIR_tout']\n",
        "\n",
        "for kind in kinds:\n",
        "    os.mkdir(drive_path + kind)"
      ],
      "execution_count": null,
      "outputs": []
    },
    {
      "cell_type": "code",
      "metadata": {
        "id": "PFo6kp2ncKbp"
      },
      "source": [
        "dest_rgb = drive_path + 'RGB_tout/'\n",
        "dest_nir = drive_path + 'NIR_tout/'\n",
        "\n",
        "for label in labels:\n",
        "    \n",
        "    files_RGB_tout = os.listdir(source_RGB + label)\n",
        "    files_NIR_tout = os.listdir( source_NIR + label)\n",
        "    \n",
        "    for file_RGB_tout in files_RGB_tout: \n",
        "        \n",
        "        if file_RGB_tout != '.DS_Store' and file_RGB_tout.endswith('.HEIC') == False  :\n",
        "        \n",
        "            #shutil.move(drive_path + source_RGB + label + file_RGB_tout, dest_rgb)\n",
        "            image_tout_rgb = Image.open( source_RGB + label + file_RGB_tout)\n",
        "            image_tout_rgb.save(dest_rgb + file_RGB_tout )\n",
        "    \n",
        "    for file_NIR_tout in files_NIR_tout: \n",
        "        \n",
        "        if file_NIR_tout != '.DS_Store' and file_NIR_tout.endswith('.HEIC') == False  :\n",
        "        \n",
        "            #shutil.move(drive_path + source_NIR + label + file_NIR_tout, dest_nir)\n",
        "            image_tout_nir = Image.open( source_NIR + label + file_NIR_tout)\n",
        "            image_tout_nir.save(dest_nir + file_NIR_tout )\n",
        "           "
      ],
      "execution_count": null,
      "outputs": []
    },
    {
      "cell_type": "code",
      "metadata": {
        "id": "6gZ1f3fHcKbp"
      },
      "source": [
        "as_gray = False\n",
        "in_channel = 3\n",
        "img_rows, img_cols = 400, 400\n",
        "num_classes = 8 # number of types\n",
        "\n",
        "batch_size = 8\n",
        "epochs = 50\n",
        "input_shape = (img_rows, img_cols, in_channel)\n",
        "input_img = Input(shape = input_shape)"
      ],
      "execution_count": 15,
      "outputs": []
    },
    {
      "cell_type": "code",
      "metadata": {
        "id": "YKyZzDvKcKbp"
      },
      "source": [
        "def read_spectograms(file_paths, img_rows, img_cols, as_gray, channels,sample):\n",
        "\n",
        "  images = []\n",
        "  \n",
        "  for file_path in file_paths:\n",
        "    images.append(imread(file_path, as_gray = as_gray ))\n",
        "  \n",
        "  images = np.asarray(images, dtype=np.float32)\n",
        "  \n",
        "  # normalize\n",
        "  images = images / 255.0 #np.max(images)\n",
        "  \n",
        "  # reshape to match Keras expectaions\n",
        "  images = images.reshape(sample, img_rows, img_cols, channels)\n",
        "\n",
        "  return images"
      ],
      "execution_count": 16,
      "outputs": []
    },
    {
      "cell_type": "markdown",
      "metadata": {
        "id": "FahU3PGlcKbp"
      },
      "source": [
        ""
      ]
    },
    {
      "cell_type": "code",
      "metadata": {
        "id": "Ehzq_dGRcKbp"
      },
      "source": [
        "\n",
        "\n",
        "x_train_RGB = read_spectograms(dest_rgb +  RGB_df.RGB_ID.values, img_rows, img_cols, as_gray , in_channel,783)\n",
        "\n",
        "\n",
        "x_train_NIR = read_spectograms(dest_nir + NIR_df.NIR_ID.values, img_rows, img_cols, as_gray, in_channel,783)\n",
        "\n"
      ],
      "execution_count": 17,
      "outputs": []
    },
    {
      "cell_type": "code",
      "metadata": {
        "id": "OL744kUxcKbp",
        "colab": {
          "base_uri": "https://localhost:8080/"
        },
        "outputId": "25f6af52-ca02-4134-ec38-5f61e36b2c67"
      },
      "source": [
        "labels_RGB = RGB_df.Pill_name.values\n",
        "labels_RGB"
      ],
      "execution_count": 18,
      "outputs": [
        {
          "output_type": "execute_result",
          "data": {
            "text/plain": [
              "array(['allo', 'allo', 'allo', 'allo', 'allo', 'allo', 'allo', 'allo',\n",
              "       'allo', 'allo', 'allo', 'allo', 'allo', 'allo', 'allo', 'allo',\n",
              "       'allo', 'allo', 'allo', 'allo', 'allo', 'allo', 'allo', 'allo',\n",
              "       'allo', 'allo', 'allo', 'allo', 'allo', 'allo', 'allo', 'allo',\n",
              "       'allo', 'allo', 'allo', 'allo', 'allo', 'allo', 'allo', 'allo',\n",
              "       'allo', 'allo', 'allo', 'allo', 'allo', 'allo', 'allo', 'allo',\n",
              "       'allo', 'allo', 'allo', 'allo', 'allo', 'allo', 'allo', 'allo',\n",
              "       'allo', 'allo', 'allo', 'allo', 'allo', 'allo', 'allo', 'allo',\n",
              "       'allo', 'allo', 'allo', 'allo', 'allo', 'allo', 'allo', 'allo',\n",
              "       'allo', 'allo', 'allo', 'allo', 'allo', 'allo', 'allo', 'allo',\n",
              "       'allo', 'allo', 'allo', 'allo', 'allo', 'allo', 'allo', 'allo',\n",
              "       'allo', 'allo', 'allo', 'allo', 'allo', 'allo', 'allo', 'allo',\n",
              "       'allo', 'allo', 'allo', 'allo', 'allo', 'allo', 'allo', 'allo',\n",
              "       'allo', 'allo', 'allo', 'allo', 'allo', 'allo', 'allo', 'allo',\n",
              "       'allo', 'allo', 'allo', 'allo', 'allo', 'allo', 'allo', 'allo',\n",
              "       'allo', 'allo', 'amio', 'amio', 'amio', 'amio', 'amio', 'amio',\n",
              "       'amio', 'amio', 'amio', 'amio', 'amio', 'amio', 'amio', 'amio',\n",
              "       'amio', 'amio', 'amio', 'amio', 'amio', 'amio', 'amio', 'amio',\n",
              "       'amio', 'amio', 'amio', 'amio', 'amio', 'amio', 'amio', 'amio',\n",
              "       'amio', 'amio', 'amio', 'amio', 'amio', 'amio', 'amio', 'amio',\n",
              "       'amio', 'amio', 'amio', 'amio', 'amio', 'amio', 'amio', 'amio',\n",
              "       'amio', 'amio', 'amio', 'amio', 'amio', 'amio', 'amio', 'amio',\n",
              "       'amio', 'amio', 'amio', 'amio', 'amio', 'amio', 'amio', 'amio',\n",
              "       'amio', 'amio', 'amio', 'amio', 'amio', 'amio', 'amio', 'amio',\n",
              "       'amio', 'amio', 'amio', 'amio', 'amio', 'amio', 'amio', 'amio',\n",
              "       'amio', 'amio', 'amio', 'amio', 'amio', 'amio', 'amio', 'amio',\n",
              "       'amio', 'amio', 'amio', 'amio', 'amio', 'amio', 'amio', 'amio',\n",
              "       'amio', 'amio', 'amio', 'amio', 'amio', 'amio', 'amio', 'amio',\n",
              "       'amio', 'amio', 'amio', 'amio', 'amio', 'amio', 'amio', 'amio',\n",
              "       'amio', 'amio', 'amio', 'amio', 'amio', 'amio', 'amio', 'amio',\n",
              "       'amio', 'amio', 'amio', 'clari', 'clari', 'clari', 'clari',\n",
              "       'clari', 'clari', 'clari', 'clari', 'clari', 'clari', 'clari',\n",
              "       'clari', 'clari', 'clari', 'clari', 'clari', 'clari', 'clari',\n",
              "       'clari', 'clari', 'clari', 'clari', 'clari', 'clari', 'clari',\n",
              "       'clari', 'clari', 'clari', 'furo', 'furo', 'furo', 'furo', 'furo',\n",
              "       'furo', 'furo', 'furo', 'furo', 'furo', 'furo', 'furo', 'furo',\n",
              "       'furo', 'furo', 'furo', 'furo', 'furo', 'furo', 'furo', 'furo',\n",
              "       'furo', 'furo', 'furo', 'furo', 'furo', 'furo', 'furo', 'furo',\n",
              "       'furo', 'furo', 'furo', 'furo', 'furo', 'furo', 'furo', 'furo',\n",
              "       'furo', 'furo', 'furo', 'furo', 'furo', 'furo', 'furo', 'furo',\n",
              "       'furo', 'furo', 'furo', 'furo', 'furo', 'furo', 'furo', 'furo',\n",
              "       'furo', 'furo', 'furo', 'furo', 'furo', 'furo', 'furo', 'furo',\n",
              "       'furo', 'furo', 'furo', 'furo', 'furo', 'furo', 'furo', 'furo',\n",
              "       'furo', 'furo', 'furo', 'furo', 'furo', 'furo', 'furo', 'furo',\n",
              "       'furo', 'furo', 'furo', 'furo', 'furo', 'furo', 'furo', 'furo',\n",
              "       'furo', 'furo', 'furo', 'furo', 'furo', 'furo', 'furo', 'furo',\n",
              "       'furo', 'furo', 'furo', 'furo', 'furo', 'furo', 'furo', 'furo',\n",
              "       'furo', 'furo', 'furo', 'furo', 'furo', 'furo', 'furo', 'furo',\n",
              "       'furo', 'furo', 'furo', 'furo', 'furo', 'furo', 'furo', 'furo',\n",
              "       'furo', 'furo', 'furo', 'furo', 'furo', 'furo', 'furo', 'irb',\n",
              "       'irb', 'irb', 'irb', 'irb', 'irb', 'irb', 'irb', 'irb', 'irb',\n",
              "       'irb', 'irb', 'irb', 'irb', 'irb', 'irb', 'irb', 'irb', 'irb',\n",
              "       'irb', 'irb', 'irb', 'irb', 'irb', 'irb', 'irb', 'irb', 'irb',\n",
              "       'irb', 'irb', 'irb', 'irb', 'irb', 'irb', 'irb', 'irb', 'irb',\n",
              "       'irb', 'irb', 'irb', 'irb', 'irb', 'irb', 'irb', 'irb', 'irb',\n",
              "       'irb', 'irb', 'irb', 'irb', 'irb', 'irb', 'irb', 'irb', 'irb',\n",
              "       'irb', 'irb', 'irb', 'irb', 'irb', 'irb', 'irb', 'irb', 'irb',\n",
              "       'irb', 'irb', 'irb', 'irb', 'irb', 'irb', 'irb', 'irb', 'irb',\n",
              "       'irb', 'irb', 'irb', 'irb', 'irb', 'irb', 'irb', 'irb', 'irb',\n",
              "       'irb', 'irb', 'irb', 'irb', 'irb', 'irb', 'irb', 'irb', 'irb',\n",
              "       'irb', 'irb', 'irb', 'irb', 'irb', 'irb', 'irb', 'irb', 'irb',\n",
              "       'irb', 'irb', 'irb', 'irb', 'irb', 'irb', 'irb', 'irb', 'irb',\n",
              "       'irb', 'irb', 'irb', 'irb', 'irb', 'irb', 'irb', 'irb', 'irb',\n",
              "       'irb', 'irb', 'levo', 'levo', 'levo', 'levo', 'levo', 'levo',\n",
              "       'levo', 'levo', 'levo', 'levo', 'levo', 'levo', 'levo', 'levo',\n",
              "       'levo', 'levo', 'levo', 'levo', 'levo', 'levo', 'levo', 'levo',\n",
              "       'levo', 'levo', 'levo', 'levo', 'levo', 'levo', 'levo', 'levo',\n",
              "       'levo', 'levo', 'levo', 'levo', 'levo', 'levo', 'levo', 'levo',\n",
              "       'levo', 'levo', 'levo', 'levo', 'levo', 'levo', 'levo', 'levo',\n",
              "       'levo', 'levo', 'levo', 'levo', 'levo', 'levo', 'levo', 'levo',\n",
              "       'levo', 'levo', 'levo', 'levo', 'levo', 'levo', 'levo', 'levo',\n",
              "       'levo', 'levo', 'levo', 'levo', 'levo', 'levo', 'levo', 'levo',\n",
              "       'levo', 'levo', 'levo', 'levo', 'levo', 'levo', 'levo', 'levo',\n",
              "       'levo', 'levo', 'levo', 'levo', 'levo', 'levo', 'levo', 'levo',\n",
              "       'levo', 'levo', 'levo', 'levo', 'levo', 'levo', 'levo', 'levo',\n",
              "       'levo', 'levo', 'levo', 'levo', 'levo', 'levo', 'levo', 'levo',\n",
              "       'levo', 'levo', 'levo', 'levo', 'levo', 'levo', 'levo', 'levo',\n",
              "       'levo', 'levo', 'levo', 'levo', 'levo', 'levo', 'levo', 'levo',\n",
              "       'levo', 'levo', 'levo', 'simva', 'simva', 'simva', 'simva',\n",
              "       'simva', 'simva', 'simva', 'simva', 'simva', 'simva', 'simva',\n",
              "       'simva', 'simva', 'simva', 'simva', 'simva', 'simva', 'simva',\n",
              "       'simva', 'simva', 'simva', 'simva', 'simva', 'simva', 'simva',\n",
              "       'simva', 'simva', 'simva', 'simva', 'simva', 'simva', 'simva',\n",
              "       'simva', 'simva', 'simva', 'simva', 'simva', 'simva', 'simva',\n",
              "       'simva', 'simva', 'simva', 'simva', 'simva', 'simva', 'simva',\n",
              "       'simva', 'simva', 'simva', 'simva', 'simva', 'simva', 'simva',\n",
              "       'simva', 'simva', 'simva', 'simva', 'simva', 'simva', 'simva',\n",
              "       'simva', 'simva', 'simva', 'simva', 'simva', 'simva', 'simva',\n",
              "       'simva', 'simva', 'simva', 'simva', 'simva', 'simva', 'simva',\n",
              "       'simva', 'simva', 'simva', 'simva', 'simva', 'simva', 'simva',\n",
              "       'simva', 'simva', 'simva', 'simva', 'simva', 'simva', 'simva',\n",
              "       'simva', 'simva', 'simva', 'simva', 'simva', 'simva', 'simva',\n",
              "       'simva', 'simva', 'simva', 'simva', 'simva', 'simva', 'simva',\n",
              "       'simva', 'simva', 'simva', 'simva', 'simva', 'simva', 'simva',\n",
              "       'simva', 'simva', 'simva', 'simva', 'simva', 'simva', 'simva',\n",
              "       'simva', 'simva', 'simva', 'simva', 'simva', 'trama', 'trama',\n",
              "       'trama', 'trama', 'trama', 'trama', 'trama', 'trama', 'trama',\n",
              "       'trama', 'trama', 'trama', 'trama', 'trama', 'trama', 'trama',\n",
              "       'trama', 'trama', 'trama', 'trama', 'trama', 'trama', 'trama',\n",
              "       'trama', 'trama', 'trama'], dtype=object)"
            ]
          },
          "metadata": {
            "tags": []
          },
          "execution_count": 18
        }
      ]
    },
    {
      "cell_type": "code",
      "metadata": {
        "id": "-Z0uMo-icKbq"
      },
      "source": [
        "labels_NIR = NIR_df.Pill_name.values"
      ],
      "execution_count": 19,
      "outputs": []
    },
    {
      "cell_type": "code",
      "metadata": {
        "id": "dBhrK0qmcKbq"
      },
      "source": [
        "labels_RGB = np.where(labels_RGB== 'allo', 0, labels_RGB)\n",
        "labels_RGB = np.where(labels_RGB== 'amio', 1, labels_RGB)\n",
        "labels_RGB = np.where(labels_RGB== 'clari', 2, labels_RGB)\n",
        "labels_RGB = np.where(labels_RGB== 'furo', 3, labels_RGB)\n",
        "labels_RGB = np.where(labels_RGB== 'irb', 4, labels_RGB)\n",
        "labels_RGB = np.where(labels_RGB== 'levo', 5, labels_RGB)\n",
        "labels_RGB = np.where(labels_RGB== 'simva', 6, labels_RGB)\n",
        "labels_RGB = np.where(labels_RGB== 'trama', 7, labels_RGB)"
      ],
      "execution_count": 20,
      "outputs": []
    },
    {
      "cell_type": "code",
      "metadata": {
        "id": "yUebDkr5cKbq"
      },
      "source": [
        "labels_NIR = np.where(labels_NIR== 'allo', 0, labels_NIR)\n",
        "labels_NIR = np.where(labels_NIR== 'amio', 1, labels_NIR)\n",
        "labels_NIR = np.where(labels_NIR== 'clari', 2, labels_NIR)\n",
        "labels_NIR = np.where(labels_NIR== 'furo', 3, labels_NIR)\n",
        "labels_NIR = np.where(labels_NIR== 'irb', 4, labels_NIR)\n",
        "labels_NIR= np.where(labels_NIR== 'levo', 5, labels_NIR)\n",
        "labels_NIR = np.where(labels_NIR== 'simva', 6, labels_NIR)\n",
        "labels_NIR = np.where(labels_NIR== 'trama', 7,labels_NIR)"
      ],
      "execution_count": 21,
      "outputs": []
    },
    {
      "cell_type": "code",
      "metadata": {
        "id": "2aJX9h7QcKbq"
      },
      "source": [
        "# labels - convert class vectors to binary class matrices One Hot Encoding\n",
        "\n",
        "labels_RGB = keras.utils.to_categorical(labels_RGB, num_classes)"
      ],
      "execution_count": 22,
      "outputs": []
    },
    {
      "cell_type": "code",
      "metadata": {
        "id": "r2BTYcGscKbq"
      },
      "source": [
        "labels_NIR = keras.utils.to_categorical(labels_NIR, num_classes)"
      ],
      "execution_count": 23,
      "outputs": []
    },
    {
      "cell_type": "markdown",
      "metadata": {
        "id": "-lHvCamkcKbq"
      },
      "source": [
        "# Split and Train test batches"
      ]
    },
    {
      "cell_type": "code",
      "metadata": {
        "id": "4Puj-Ul8cKbq"
      },
      "source": [
        "\n",
        "# stack so we can split on the same pair of images\n",
        "x_train_comp = np.stack((x_train_RGB, x_train_NIR), axis=4)\n",
        "\n",
        "x_train, x_test, y_train, y_test = train_test_split(x_train_comp, labels_RGB, test_size = 0.3, random_state=666)\n",
        "\n",
        "# take them apart\n",
        "x_train_RGB = x_train[:,:,:,:,0]\n",
        "x_test_RGB = x_test[:,:,:,:,0]\n",
        "\n",
        "x_train_NIR = x_train[:,:,:,:,1]\n",
        "x_test_NIR = x_test[:,:,:,:,1]"
      ],
      "execution_count": 24,
      "outputs": []
    },
    {
      "cell_type": "markdown",
      "metadata": {
        "id": "_gLZvAiYcKbq"
      },
      "source": [
        "# Model"
      ]
    },
    {
      "cell_type": "code",
      "metadata": {
        "id": "Z2mHNQgIcKbq"
      },
      "source": [
        "def create_convolution_layers(input_img):\n",
        "  model = Conv2D(32, (3, 3), padding='same', input_shape=input_shape)(input_img)\n",
        "  model = LeakyReLU(alpha=0.1)(model)\n",
        "  model = MaxPooling2D((2, 2),padding='same')(model)\n",
        "  model = Dropout(0.25)(model)\n",
        "  \n",
        "  model = Conv2D(64, (3, 3), padding='same')(model)\n",
        "  model = LeakyReLU(alpha=0.1)(model)\n",
        "  model = MaxPooling2D(pool_size=(2, 2),padding='same')(model)\n",
        "  model = Dropout(0.25)(model)\n",
        "    \n",
        "  model = Conv2D(128, (3, 3), padding='same')(model)\n",
        "  model = LeakyReLU(alpha=0.1)(model)\n",
        "  model = MaxPooling2D(pool_size=(2, 2),padding='same')(model)\n",
        "  model = Dropout(0.4)(model)\n",
        "\n",
        "\n",
        "    \n",
        "  return model"
      ],
      "execution_count": 25,
      "outputs": []
    },
    {
      "cell_type": "code",
      "metadata": {
        "id": "V0hQFw9CMFO6"
      },
      "source": [
        "RGB_input = Input(shape=input_shape)\n",
        "RGB_model = create_convolution_layers(RGB_input)\n",
        "\n",
        "NIR_input = Input(shape=input_shape)\n",
        "NIR_model = create_convolution_layers(NIR_input)\n",
        "\n",
        "conv = concatenate([RGB_model, NIR_model])\n",
        "\n",
        "conv = Flatten()(conv)\n",
        "\n",
        "dense = Dense(512)(conv)\n",
        "\n",
        "\n",
        "dense = LeakyReLU(alpha=0.1)(dense)\n",
        "dense = Dropout(0.5)(dense)\n",
        "\n",
        "output = Dense(num_classes, activation='softmax')(dense)\n",
        "\n",
        "model = Model(inputs=[RGB_input, NIR_input], outputs=[output])"
      ],
      "execution_count": 26,
      "outputs": []
    },
    {
      "cell_type": "code",
      "metadata": {
        "id": "eCDTIHeyMGmq"
      },
      "source": [
        ""
      ],
      "execution_count": 26,
      "outputs": []
    },
    {
      "cell_type": "code",
      "metadata": {
        "id": "kjGKrZyrcKbq",
        "colab": {
          "base_uri": "https://localhost:8080/"
        },
        "outputId": "8a136c47-d3c8-46a6-ceae-5774f9e9d950"
      },
      "source": [
        "\n",
        "opt = optimizers.Adam()\n",
        "\n",
        "model.compile(loss='categorical_crossentropy',\n",
        "              optimizer=opt,\n",
        "              metrics=['accuracy'])\n",
        "print(model.summary())"
      ],
      "execution_count": 27,
      "outputs": [
        {
          "output_type": "stream",
          "text": [
            "Model: \"model\"\n",
            "__________________________________________________________________________________________________\n",
            "Layer (type)                    Output Shape         Param #     Connected to                     \n",
            "==================================================================================================\n",
            "input_2 (InputLayer)            [(None, 400, 400, 3) 0                                            \n",
            "__________________________________________________________________________________________________\n",
            "input_3 (InputLayer)            [(None, 400, 400, 3) 0                                            \n",
            "__________________________________________________________________________________________________\n",
            "conv2d (Conv2D)                 (None, 400, 400, 32) 896         input_2[0][0]                    \n",
            "__________________________________________________________________________________________________\n",
            "conv2d_3 (Conv2D)               (None, 400, 400, 32) 896         input_3[0][0]                    \n",
            "__________________________________________________________________________________________________\n",
            "leaky_re_lu (LeakyReLU)         (None, 400, 400, 32) 0           conv2d[0][0]                     \n",
            "__________________________________________________________________________________________________\n",
            "leaky_re_lu_3 (LeakyReLU)       (None, 400, 400, 32) 0           conv2d_3[0][0]                   \n",
            "__________________________________________________________________________________________________\n",
            "max_pooling2d (MaxPooling2D)    (None, 200, 200, 32) 0           leaky_re_lu[0][0]                \n",
            "__________________________________________________________________________________________________\n",
            "max_pooling2d_3 (MaxPooling2D)  (None, 200, 200, 32) 0           leaky_re_lu_3[0][0]              \n",
            "__________________________________________________________________________________________________\n",
            "dropout (Dropout)               (None, 200, 200, 32) 0           max_pooling2d[0][0]              \n",
            "__________________________________________________________________________________________________\n",
            "dropout_3 (Dropout)             (None, 200, 200, 32) 0           max_pooling2d_3[0][0]            \n",
            "__________________________________________________________________________________________________\n",
            "conv2d_1 (Conv2D)               (None, 200, 200, 64) 18496       dropout[0][0]                    \n",
            "__________________________________________________________________________________________________\n",
            "conv2d_4 (Conv2D)               (None, 200, 200, 64) 18496       dropout_3[0][0]                  \n",
            "__________________________________________________________________________________________________\n",
            "leaky_re_lu_1 (LeakyReLU)       (None, 200, 200, 64) 0           conv2d_1[0][0]                   \n",
            "__________________________________________________________________________________________________\n",
            "leaky_re_lu_4 (LeakyReLU)       (None, 200, 200, 64) 0           conv2d_4[0][0]                   \n",
            "__________________________________________________________________________________________________\n",
            "max_pooling2d_1 (MaxPooling2D)  (None, 100, 100, 64) 0           leaky_re_lu_1[0][0]              \n",
            "__________________________________________________________________________________________________\n",
            "max_pooling2d_4 (MaxPooling2D)  (None, 100, 100, 64) 0           leaky_re_lu_4[0][0]              \n",
            "__________________________________________________________________________________________________\n",
            "dropout_1 (Dropout)             (None, 100, 100, 64) 0           max_pooling2d_1[0][0]            \n",
            "__________________________________________________________________________________________________\n",
            "dropout_4 (Dropout)             (None, 100, 100, 64) 0           max_pooling2d_4[0][0]            \n",
            "__________________________________________________________________________________________________\n",
            "conv2d_2 (Conv2D)               (None, 100, 100, 128 73856       dropout_1[0][0]                  \n",
            "__________________________________________________________________________________________________\n",
            "conv2d_5 (Conv2D)               (None, 100, 100, 128 73856       dropout_4[0][0]                  \n",
            "__________________________________________________________________________________________________\n",
            "leaky_re_lu_2 (LeakyReLU)       (None, 100, 100, 128 0           conv2d_2[0][0]                   \n",
            "__________________________________________________________________________________________________\n",
            "leaky_re_lu_5 (LeakyReLU)       (None, 100, 100, 128 0           conv2d_5[0][0]                   \n",
            "__________________________________________________________________________________________________\n",
            "max_pooling2d_2 (MaxPooling2D)  (None, 50, 50, 128)  0           leaky_re_lu_2[0][0]              \n",
            "__________________________________________________________________________________________________\n",
            "max_pooling2d_5 (MaxPooling2D)  (None, 50, 50, 128)  0           leaky_re_lu_5[0][0]              \n",
            "__________________________________________________________________________________________________\n",
            "dropout_2 (Dropout)             (None, 50, 50, 128)  0           max_pooling2d_2[0][0]            \n",
            "__________________________________________________________________________________________________\n",
            "dropout_5 (Dropout)             (None, 50, 50, 128)  0           max_pooling2d_5[0][0]            \n",
            "__________________________________________________________________________________________________\n",
            "concatenate (Concatenate)       (None, 50, 50, 256)  0           dropout_2[0][0]                  \n",
            "                                                                 dropout_5[0][0]                  \n",
            "__________________________________________________________________________________________________\n",
            "flatten (Flatten)               (None, 640000)       0           concatenate[0][0]                \n",
            "__________________________________________________________________________________________________\n",
            "dense (Dense)                   (None, 512)          327680512   flatten[0][0]                    \n",
            "__________________________________________________________________________________________________\n",
            "leaky_re_lu_6 (LeakyReLU)       (None, 512)          0           dense[0][0]                      \n",
            "__________________________________________________________________________________________________\n",
            "dropout_6 (Dropout)             (None, 512)          0           leaky_re_lu_6[0][0]              \n",
            "__________________________________________________________________________________________________\n",
            "dense_1 (Dense)                 (None, 8)            4104        dropout_6[0][0]                  \n",
            "==================================================================================================\n",
            "Total params: 327,871,112\n",
            "Trainable params: 327,871,112\n",
            "Non-trainable params: 0\n",
            "__________________________________________________________________________________________________\n",
            "None\n"
          ],
          "name": "stdout"
        }
      ]
    },
    {
      "cell_type": "markdown",
      "metadata": {
        "id": "sPXc2eSycKbr"
      },
      "source": [
        "# Train the model "
      ]
    },
    {
      "cell_type": "code",
      "metadata": {
        "id": "smnISDnecKbr"
      },
      "source": [
        "\n",
        "best_weights_file=\"weights_best.hdf5\"\n",
        "best_weights_file_dir = os.path.dirname(drive_path + best_weights_file)\n"
      ],
      "execution_count": 28,
      "outputs": []
    },
    {
      "cell_type": "code",
      "metadata": {
        "id": "r62pGi12cKbr",
        "colab": {
          "base_uri": "https://localhost:8080/",
          "height": 35
        },
        "outputId": "227e34d8-f562-4fa1-e23e-8f9849c9a236"
      },
      "source": [
        "best_weights_file_dir"
      ],
      "execution_count": 29,
      "outputs": [
        {
          "output_type": "execute_result",
          "data": {
            "application/vnd.google.colaboratory.intrinsic+json": {
              "type": "string"
            },
            "text/plain": [
              "'gdrive/My Drive'"
            ]
          },
          "metadata": {
            "tags": []
          },
          "execution_count": 29
        }
      ]
    },
    {
      "cell_type": "code",
      "metadata": {
        "id": "TyEgY_fGcKbr",
        "colab": {
          "base_uri": "https://localhost:8080/"
        },
        "outputId": "4833795e-6180-4f55-ff6c-14269f2f0d57"
      },
      "source": [
        "#batch_size = 783\n",
        "checkpoint = keras.callbacks.ModelCheckpoint(best_weights_file, monitor='val_accuracy', verbose=1, save_best_only=True, mode='max')\n",
        "\n",
        "callbacks = [checkpoint]\n",
        "\n",
        "history = model.fit([x_train_RGB, x_train_NIR], y_train,\n",
        "                    batch_size=batch_size,\n",
        "                    epochs=epochs,\n",
        "                    callbacks=callbacks,\n",
        "                    verbose=1,\n",
        "                    validation_data=([x_test_RGB, x_test_NIR], y_test),\n",
        "                    shuffle=True)"
      ],
      "execution_count": 30,
      "outputs": [
        {
          "output_type": "stream",
          "text": [
            "Epoch 1/50\n",
            "69/69 [==============================] - 25s 129ms/step - loss: 26.9692 - accuracy: 0.1537 - val_loss: 13.7842 - val_accuracy: 0.1489\n",
            "\n",
            "Epoch 00001: val_accuracy improved from -inf to 0.14894, saving model to weights_best.hdf5\n",
            "Epoch 2/50\n",
            "69/69 [==============================] - 8s 114ms/step - loss: 2.1819 - accuracy: 0.1537 - val_loss: 16.2379 - val_accuracy: 0.1447\n",
            "\n",
            "Epoch 00002: val_accuracy did not improve from 0.14894\n",
            "Epoch 3/50\n",
            "69/69 [==============================] - 8s 113ms/step - loss: 2.0353 - accuracy: 0.1698 - val_loss: 10.7302 - val_accuracy: 0.1745\n",
            "\n",
            "Epoch 00003: val_accuracy improved from 0.14894 to 0.17447, saving model to weights_best.hdf5\n",
            "Epoch 4/50\n",
            "69/69 [==============================] - 8s 113ms/step - loss: 2.3453 - accuracy: 0.1369 - val_loss: 3.0199 - val_accuracy: 0.1404\n",
            "\n",
            "Epoch 00004: val_accuracy did not improve from 0.17447\n",
            "Epoch 5/50\n",
            "69/69 [==============================] - 8s 113ms/step - loss: 1.9996 - accuracy: 0.2018 - val_loss: 4.6138 - val_accuracy: 0.1617\n",
            "\n",
            "Epoch 00005: val_accuracy did not improve from 0.17447\n",
            "Epoch 6/50\n",
            "69/69 [==============================] - 8s 114ms/step - loss: 1.9512 - accuracy: 0.2084 - val_loss: 4.1379 - val_accuracy: 0.1745\n",
            "\n",
            "Epoch 00006: val_accuracy did not improve from 0.17447\n",
            "Epoch 7/50\n",
            "69/69 [==============================] - 8s 113ms/step - loss: 1.9312 - accuracy: 0.2175 - val_loss: 3.4416 - val_accuracy: 0.1447\n",
            "\n",
            "Epoch 00007: val_accuracy did not improve from 0.17447\n",
            "Epoch 8/50\n",
            "69/69 [==============================] - 8s 113ms/step - loss: 1.8966 - accuracy: 0.2774 - val_loss: 2.1200 - val_accuracy: 0.1745\n",
            "\n",
            "Epoch 00008: val_accuracy did not improve from 0.17447\n",
            "Epoch 9/50\n",
            "69/69 [==============================] - 8s 113ms/step - loss: 1.7663 - accuracy: 0.3481 - val_loss: 2.9656 - val_accuracy: 0.1830\n",
            "\n",
            "Epoch 00009: val_accuracy improved from 0.17447 to 0.18298, saving model to weights_best.hdf5\n",
            "Epoch 10/50\n",
            "69/69 [==============================] - 8s 113ms/step - loss: 1.5947 - accuracy: 0.4139 - val_loss: 2.5772 - val_accuracy: 0.1957\n",
            "\n",
            "Epoch 00010: val_accuracy improved from 0.18298 to 0.19574, saving model to weights_best.hdf5\n",
            "Epoch 11/50\n",
            "69/69 [==============================] - 8s 114ms/step - loss: 1.5165 - accuracy: 0.4229 - val_loss: 2.8302 - val_accuracy: 0.1872\n",
            "\n",
            "Epoch 00011: val_accuracy did not improve from 0.19574\n",
            "Epoch 12/50\n",
            "69/69 [==============================] - 8s 113ms/step - loss: 1.4531 - accuracy: 0.5240 - val_loss: 2.6508 - val_accuracy: 0.2043\n",
            "\n",
            "Epoch 00012: val_accuracy improved from 0.19574 to 0.20426, saving model to weights_best.hdf5\n",
            "Epoch 13/50\n",
            "69/69 [==============================] - 8s 114ms/step - loss: 1.2694 - accuracy: 0.5466 - val_loss: 3.3649 - val_accuracy: 0.1702\n",
            "\n",
            "Epoch 00013: val_accuracy did not improve from 0.20426\n",
            "Epoch 14/50\n",
            "69/69 [==============================] - 8s 114ms/step - loss: 1.0598 - accuracy: 0.6186 - val_loss: 5.1531 - val_accuracy: 0.1915\n",
            "\n",
            "Epoch 00014: val_accuracy did not improve from 0.20426\n",
            "Epoch 15/50\n",
            "69/69 [==============================] - 8s 113ms/step - loss: 1.2813 - accuracy: 0.6194 - val_loss: 3.5315 - val_accuracy: 0.2255\n",
            "\n",
            "Epoch 00015: val_accuracy improved from 0.20426 to 0.22553, saving model to weights_best.hdf5\n",
            "Epoch 16/50\n",
            "69/69 [==============================] - 8s 114ms/step - loss: 1.0253 - accuracy: 0.6576 - val_loss: 3.4929 - val_accuracy: 0.2298\n",
            "\n",
            "Epoch 00016: val_accuracy improved from 0.22553 to 0.22979, saving model to weights_best.hdf5\n",
            "Epoch 17/50\n",
            "69/69 [==============================] - 8s 114ms/step - loss: 0.9423 - accuracy: 0.6873 - val_loss: 3.0960 - val_accuracy: 0.2383\n",
            "\n",
            "Epoch 00017: val_accuracy improved from 0.22979 to 0.23830, saving model to weights_best.hdf5\n",
            "Epoch 18/50\n",
            "69/69 [==============================] - 8s 113ms/step - loss: 0.9466 - accuracy: 0.6590 - val_loss: 4.1352 - val_accuracy: 0.2255\n",
            "\n",
            "Epoch 00018: val_accuracy did not improve from 0.23830\n",
            "Epoch 19/50\n",
            "69/69 [==============================] - 8s 114ms/step - loss: 0.7412 - accuracy: 0.7232 - val_loss: 4.5954 - val_accuracy: 0.2766\n",
            "\n",
            "Epoch 00019: val_accuracy improved from 0.23830 to 0.27660, saving model to weights_best.hdf5\n",
            "Epoch 20/50\n",
            "69/69 [==============================] - 8s 113ms/step - loss: 0.7206 - accuracy: 0.7334 - val_loss: 6.0584 - val_accuracy: 0.2894\n",
            "\n",
            "Epoch 00020: val_accuracy improved from 0.27660 to 0.28936, saving model to weights_best.hdf5\n",
            "Epoch 21/50\n",
            "69/69 [==============================] - 8s 114ms/step - loss: 0.6488 - accuracy: 0.7736 - val_loss: 6.1186 - val_accuracy: 0.2511\n",
            "\n",
            "Epoch 00021: val_accuracy did not improve from 0.28936\n",
            "Epoch 22/50\n",
            "69/69 [==============================] - 8s 114ms/step - loss: 0.7371 - accuracy: 0.7488 - val_loss: 5.6400 - val_accuracy: 0.2085\n",
            "\n",
            "Epoch 00022: val_accuracy did not improve from 0.28936\n",
            "Epoch 23/50\n",
            "69/69 [==============================] - 8s 113ms/step - loss: 0.8081 - accuracy: 0.7284 - val_loss: 4.6935 - val_accuracy: 0.2596\n",
            "\n",
            "Epoch 00023: val_accuracy did not improve from 0.28936\n",
            "Epoch 24/50\n",
            "69/69 [==============================] - 8s 113ms/step - loss: 0.7224 - accuracy: 0.7564 - val_loss: 3.2723 - val_accuracy: 0.2894\n",
            "\n",
            "Epoch 00024: val_accuracy did not improve from 0.28936\n",
            "Epoch 25/50\n",
            "69/69 [==============================] - 8s 113ms/step - loss: 0.7499 - accuracy: 0.7484 - val_loss: 6.3549 - val_accuracy: 0.2723\n",
            "\n",
            "Epoch 00025: val_accuracy did not improve from 0.28936\n",
            "Epoch 26/50\n",
            "69/69 [==============================] - 8s 113ms/step - loss: 0.5934 - accuracy: 0.8093 - val_loss: 6.6977 - val_accuracy: 0.2383\n",
            "\n",
            "Epoch 00026: val_accuracy did not improve from 0.28936\n",
            "Epoch 27/50\n",
            "69/69 [==============================] - 8s 113ms/step - loss: 0.4988 - accuracy: 0.8528 - val_loss: 6.0280 - val_accuracy: 0.2511\n",
            "\n",
            "Epoch 00027: val_accuracy did not improve from 0.28936\n",
            "Epoch 28/50\n",
            "69/69 [==============================] - 8s 113ms/step - loss: 0.5312 - accuracy: 0.8095 - val_loss: 8.3042 - val_accuracy: 0.2681\n",
            "\n",
            "Epoch 00028: val_accuracy did not improve from 0.28936\n",
            "Epoch 29/50\n",
            "69/69 [==============================] - 8s 114ms/step - loss: 0.3506 - accuracy: 0.8615 - val_loss: 9.1273 - val_accuracy: 0.2596\n",
            "\n",
            "Epoch 00029: val_accuracy did not improve from 0.28936\n",
            "Epoch 30/50\n",
            "69/69 [==============================] - 8s 114ms/step - loss: 0.7010 - accuracy: 0.8448 - val_loss: 6.9300 - val_accuracy: 0.2809\n",
            "\n",
            "Epoch 00030: val_accuracy did not improve from 0.28936\n",
            "Epoch 31/50\n",
            "69/69 [==============================] - 8s 114ms/step - loss: 0.5115 - accuracy: 0.8403 - val_loss: 8.3494 - val_accuracy: 0.2766\n",
            "\n",
            "Epoch 00031: val_accuracy did not improve from 0.28936\n",
            "Epoch 32/50\n",
            "69/69 [==============================] - 8s 114ms/step - loss: 0.2563 - accuracy: 0.9064 - val_loss: 11.3474 - val_accuracy: 0.2468\n",
            "\n",
            "Epoch 00032: val_accuracy did not improve from 0.28936\n",
            "Epoch 33/50\n",
            "69/69 [==============================] - 8s 113ms/step - loss: 0.4626 - accuracy: 0.8640 - val_loss: 6.0307 - val_accuracy: 0.2553\n",
            "\n",
            "Epoch 00033: val_accuracy did not improve from 0.28936\n",
            "Epoch 34/50\n",
            "69/69 [==============================] - 8s 113ms/step - loss: 0.3694 - accuracy: 0.8937 - val_loss: 7.2827 - val_accuracy: 0.3064\n",
            "\n",
            "Epoch 00034: val_accuracy improved from 0.28936 to 0.30638, saving model to weights_best.hdf5\n",
            "Epoch 35/50\n",
            "69/69 [==============================] - 8s 114ms/step - loss: 0.4037 - accuracy: 0.8817 - val_loss: 10.5656 - val_accuracy: 0.2511\n",
            "\n",
            "Epoch 00035: val_accuracy did not improve from 0.30638\n",
            "Epoch 36/50\n",
            "69/69 [==============================] - 8s 114ms/step - loss: 1.6648 - accuracy: 0.7498 - val_loss: 15.0682 - val_accuracy: 0.2638\n",
            "\n",
            "Epoch 00036: val_accuracy did not improve from 0.30638\n",
            "Epoch 37/50\n",
            "69/69 [==============================] - 8s 114ms/step - loss: 2.2006 - accuracy: 0.7124 - val_loss: 9.6696 - val_accuracy: 0.1404\n",
            "\n",
            "Epoch 00037: val_accuracy did not improve from 0.30638\n",
            "Epoch 38/50\n",
            "69/69 [==============================] - 8s 113ms/step - loss: 4.7612 - accuracy: 0.6400 - val_loss: 9.9052 - val_accuracy: 0.2383\n",
            "\n",
            "Epoch 00038: val_accuracy did not improve from 0.30638\n",
            "Epoch 39/50\n",
            "69/69 [==============================] - 8s 113ms/step - loss: 1.8398 - accuracy: 0.7185 - val_loss: 5.3476 - val_accuracy: 0.2553\n",
            "\n",
            "Epoch 00039: val_accuracy did not improve from 0.30638\n",
            "Epoch 40/50\n",
            "69/69 [==============================] - 8s 114ms/step - loss: 1.1570 - accuracy: 0.7346 - val_loss: 10.0869 - val_accuracy: 0.2511\n",
            "\n",
            "Epoch 00040: val_accuracy did not improve from 0.30638\n",
            "Epoch 41/50\n",
            "69/69 [==============================] - 8s 113ms/step - loss: 0.8384 - accuracy: 0.8083 - val_loss: 8.4567 - val_accuracy: 0.3064\n",
            "\n",
            "Epoch 00041: val_accuracy did not improve from 0.30638\n",
            "Epoch 42/50\n",
            "69/69 [==============================] - 8s 114ms/step - loss: 0.5137 - accuracy: 0.8449 - val_loss: 10.0470 - val_accuracy: 0.2638\n",
            "\n",
            "Epoch 00042: val_accuracy did not improve from 0.30638\n",
            "Epoch 43/50\n",
            "69/69 [==============================] - 8s 114ms/step - loss: 0.5656 - accuracy: 0.8747 - val_loss: 6.2574 - val_accuracy: 0.2851\n",
            "\n",
            "Epoch 00043: val_accuracy did not improve from 0.30638\n",
            "Epoch 44/50\n",
            "69/69 [==============================] - 8s 114ms/step - loss: 0.4142 - accuracy: 0.8704 - val_loss: 8.0235 - val_accuracy: 0.2979\n",
            "\n",
            "Epoch 00044: val_accuracy did not improve from 0.30638\n",
            "Epoch 45/50\n",
            "69/69 [==============================] - 8s 113ms/step - loss: 0.2547 - accuracy: 0.9215 - val_loss: 11.5931 - val_accuracy: 0.3106\n",
            "\n",
            "Epoch 00045: val_accuracy improved from 0.30638 to 0.31064, saving model to weights_best.hdf5\n",
            "Epoch 46/50\n",
            "69/69 [==============================] - 8s 115ms/step - loss: 0.3685 - accuracy: 0.9060 - val_loss: 12.4881 - val_accuracy: 0.2809\n",
            "\n",
            "Epoch 00046: val_accuracy did not improve from 0.31064\n",
            "Epoch 47/50\n",
            "69/69 [==============================] - 8s 114ms/step - loss: 0.3888 - accuracy: 0.8882 - val_loss: 11.6960 - val_accuracy: 0.2553\n",
            "\n",
            "Epoch 00047: val_accuracy did not improve from 0.31064\n",
            "Epoch 48/50\n",
            "69/69 [==============================] - 8s 113ms/step - loss: 0.3297 - accuracy: 0.9178 - val_loss: 13.7962 - val_accuracy: 0.3106\n",
            "\n",
            "Epoch 00048: val_accuracy did not improve from 0.31064\n",
            "Epoch 49/50\n",
            "69/69 [==============================] - 8s 113ms/step - loss: 0.3344 - accuracy: 0.9005 - val_loss: 14.4757 - val_accuracy: 0.3191\n",
            "\n",
            "Epoch 00049: val_accuracy improved from 0.31064 to 0.31915, saving model to weights_best.hdf5\n",
            "Epoch 50/50\n",
            "69/69 [==============================] - 8s 113ms/step - loss: 0.4597 - accuracy: 0.8925 - val_loss: 17.7878 - val_accuracy: 0.2596\n",
            "\n",
            "Epoch 00050: val_accuracy did not improve from 0.31915\n"
          ],
          "name": "stdout"
        }
      ]
    },
    {
      "cell_type": "markdown",
      "metadata": {
        "id": "Em5y0FwScKbr"
      },
      "source": [
        "# Evaluation"
      ]
    },
    {
      "cell_type": "code",
      "metadata": {
        "id": "GH_uZFmtcKbr",
        "colab": {
          "base_uri": "https://localhost:8080/"
        },
        "outputId": "956e884e-ce38-409c-8bf5-55a265c3643c"
      },
      "source": [
        "#model = create_model()\n",
        "# load weights 0.0474\n",
        "\n",
        "\n",
        "final_loss, final_acc = model.evaluate([x_test_RGB, x_test_NIR], y_test, verbose=1)\n",
        "print(\"Final loss: {0:.6f}, final accuracy: {1:.6f}\".format(final_loss, final_acc))  "
      ],
      "execution_count": null,
      "outputs": [
        {
          "output_type": "stream",
          "text": [
            "8/8 [==============================] - 1s 106ms/step - loss: 12.6512 - accuracy: 0.2298\n",
            "Final loss: 12.651244, final accuracy: 0.229787\n"
          ],
          "name": "stdout"
        }
      ]
    },
    {
      "cell_type": "code",
      "metadata": {
        "id": "1zBJaQI3cKbr"
      },
      "source": [
        "model.load_weights(best_weights_file)"
      ],
      "execution_count": 31,
      "outputs": []
    },
    {
      "cell_type": "code",
      "metadata": {
        "id": "ANVSw621pphO"
      },
      "source": [
        ""
      ],
      "execution_count": 31,
      "outputs": []
    },
    {
      "cell_type": "code",
      "metadata": {
        "colab": {
          "base_uri": "https://localhost:8080/",
          "height": 241
        },
        "id": "UiKFxJyrqdSd",
        "outputId": "1dfa0022-9337-46bd-c6a3-dd96e742fd92"
      },
      "source": [
        "fig, ax = plt.subplots(1, 2, figsize=(20, 3))\n",
        "ax = ax.ravel()\n",
        "\n",
        "for i, metric in enumerate([\"accuracy\", \"loss\"]):\n",
        "    ax[i].plot(model.history.history['accuracy'])\n",
        "    ax[i].plot(model.history.history[\"val_\" + metric])\n",
        "    ax[i].set_title(\"Model {}\".format(metric))\n",
        "    ax[i].set_xlabel(\"epochs\")\n",
        "    ax[i].set_ylabel(metric)\n",
        "    ax[i].legend([\"train\", \"val\"])\n",
        "\n",
        "plt.savefig('gdrive/My Drive/Dual_Channel_Final_Graphs_1.jpg')"
      ],
      "execution_count": 33,
      "outputs": [
        {
          "output_type": "display_data",
          "data": {
            "image/png": "[encoded data removed]",
            "text/plain": [
              "<Figure size 1440x216 with 2 Axes>"
            ]
          },
          "metadata": {
            "tags": [],
            "needs_background": "light"
          }
        }
      ]
    },
    {
      "cell_type": "markdown",
      "metadata": {
        "id": "hAusWfx-cKbs"
      },
      "source": [
        "# Predict "
      ]
    },
    {
      "cell_type": "code",
      "metadata": {
        "id": "4QNB0rkgM3v0"
      },
      "source": [
        "predict_df = pd.concat([RGB_df,NIR_df], axis=1)"
      ],
      "execution_count": null,
      "outputs": []
    },
    {
      "cell_type": "code",
      "metadata": {
        "colab": {
          "base_uri": "https://localhost:8080/",
          "height": 419
        },
        "id": "nnzXE0ZjOZkN",
        "outputId": "0e521f4a-8949-4731-896b-30c0db8979ba"
      },
      "source": [
        "predict_df"
      ],
      "execution_count": null,
      "outputs": [
        {
          "output_type": "execute_result",
          "data": {
            "text/html": [
              "<div>\n",
              "<style scoped>\n",
              "    .dataframe tbody tr th:only-of-type {\n",
              "        vertical-align: middle;\n",
              "    }\n",
              "\n",
              "    .dataframe tbody tr th {\n",
              "        vertical-align: top;\n",
              "    }\n",
              "\n",
              "    .dataframe thead th {\n",
              "        text-align: right;\n",
              "    }\n",
              "</style>\n",
              "<table border=\"1\" class=\"dataframe\">\n",
              "  <thead>\n",
              "    <tr style=\"text-align: right;\">\n",
              "      <th></th>\n",
              "      <th>RGB_ID</th>\n",
              "      <th>Pill_name</th>\n",
              "      <th>NIR_ID</th>\n",
              "      <th>Pill_name</th>\n",
              "    </tr>\n",
              "  </thead>\n",
              "  <tbody>\n",
              "    <tr>\n",
              "      <th>0</th>\n",
              "      <td>IMG_7380.JPG</td>\n",
              "      <td>allo</td>\n",
              "      <td>45image7 (8).jpg</td>\n",
              "      <td>allo</td>\n",
              "    </tr>\n",
              "    <tr>\n",
              "      <th>1</th>\n",
              "      <td>IMG_7394.JPG</td>\n",
              "      <td>allo</td>\n",
              "      <td>20image4 (7).jpg</td>\n",
              "      <td>allo</td>\n",
              "    </tr>\n",
              "    <tr>\n",
              "      <th>2</th>\n",
              "      <td>IMG_7223.JPG</td>\n",
              "      <td>allo</td>\n",
              "      <td>3image7 (10).jpg</td>\n",
              "      <td>allo</td>\n",
              "    </tr>\n",
              "    <tr>\n",
              "      <th>3</th>\n",
              "      <td>IMG_7814.JPG</td>\n",
              "      <td>allo</td>\n",
              "      <td>75image4 (4).jpg</td>\n",
              "      <td>allo</td>\n",
              "    </tr>\n",
              "    <tr>\n",
              "      <th>4</th>\n",
              "      <td>IMG_7828.JPG</td>\n",
              "      <td>allo</td>\n",
              "      <td>10image3 (13).jpg</td>\n",
              "      <td>allo</td>\n",
              "    </tr>\n",
              "    <tr>\n",
              "      <th>...</th>\n",
              "      <td>...</td>\n",
              "      <td>...</td>\n",
              "      <td>...</td>\n",
              "      <td>...</td>\n",
              "    </tr>\n",
              "    <tr>\n",
              "      <th>778</th>\n",
              "      <td>IMG_7832.JPG</td>\n",
              "      <td>trama</td>\n",
              "      <td>764image3 (10).jpg</td>\n",
              "      <td>trama</td>\n",
              "    </tr>\n",
              "    <tr>\n",
              "      <th>779</th>\n",
              "      <td>IMG_6888.JPG</td>\n",
              "      <td>trama</td>\n",
              "      <td>744image7 (5).jpg</td>\n",
              "      <td>trama</td>\n",
              "    </tr>\n",
              "    <tr>\n",
              "      <th>780</th>\n",
              "      <td>IMG_6455.JPG</td>\n",
              "      <td>trama</td>\n",
              "      <td>772image3 (11).jpg</td>\n",
              "      <td>trama</td>\n",
              "    </tr>\n",
              "    <tr>\n",
              "      <th>781</th>\n",
              "      <td>IMG_7818.JPG</td>\n",
              "      <td>trama</td>\n",
              "      <td>741image3 (6).jpg</td>\n",
              "      <td>trama</td>\n",
              "    </tr>\n",
              "    <tr>\n",
              "      <th>782</th>\n",
              "      <td>IMG_7170.JPG</td>\n",
              "      <td>trama</td>\n",
              "      <td>759image7 (12).jpg</td>\n",
              "      <td>trama</td>\n",
              "    </tr>\n",
              "  </tbody>\n",
              "</table>\n",
              "<p>783 rows × 4 columns</p>\n",
              "</div>"
            ],
            "text/plain": [
              "           RGB_ID Pill_name              NIR_ID Pill_name\n",
              "0    IMG_7380.JPG      allo    45image7 (8).jpg      allo\n",
              "1    IMG_7394.JPG      allo    20image4 (7).jpg      allo\n",
              "2    IMG_7223.JPG      allo    3image7 (10).jpg      allo\n",
              "3    IMG_7814.JPG      allo    75image4 (4).jpg      allo\n",
              "4    IMG_7828.JPG      allo   10image3 (13).jpg      allo\n",
              "..            ...       ...                 ...       ...\n",
              "778  IMG_7832.JPG     trama  764image3 (10).jpg     trama\n",
              "779  IMG_6888.JPG     trama   744image7 (5).jpg     trama\n",
              "780  IMG_6455.JPG     trama  772image3 (11).jpg     trama\n",
              "781  IMG_7818.JPG     trama   741image3 (6).jpg     trama\n",
              "782  IMG_7170.JPG     trama  759image7 (12).jpg     trama\n",
              "\n",
              "[783 rows x 4 columns]"
            ]
          },
          "metadata": {
            "tags": []
          },
          "execution_count": 49
        }
      ]
    },
    {
      "cell_type": "code",
      "metadata": {
        "colab": {
          "base_uri": "https://localhost:8080/",
          "height": 35
        },
        "id": "9CP3wPVNWnyq",
        "outputId": "e0f52921-2fc8-494e-f3d6-7a41245fe3b6"
      },
      "source": [
        "os.getcwd()"
      ],
      "execution_count": null,
      "outputs": [
        {
          "output_type": "execute_result",
          "data": {
            "application/vnd.google.colaboratory.intrinsic+json": {
              "type": "string"
            },
            "text/plain": [
              "'/content'"
            ]
          },
          "metadata": {
            "tags": []
          },
          "execution_count": 50
        }
      ]
    },
    {
      "cell_type": "code",
      "metadata": {
        "id": "b1Y75CGZcKbs"
      },
      "source": [
        "#predict_df = pd.read_csv('RGB.csv', index_col=0)\n",
        "\n",
        "#predict_df['RGB_ID'] = predict_df.index.map(lambda id: f'{id}.JPG')\n",
        "#predict_df['NIR_ID'] = predict_df.index.map(lambda id: f'{id}.jpg')\n",
        "\n",
        "x_test_RGB = read_spectograms(dest_rgb + predict_df.RGB_ID.values, img_rows, img_cols, as_gray, in_channel,783)\n",
        "x_test_NIR = read_spectograms(dest_nir + predict_df.NIR_ID.values, img_rows, img_cols, as_gray, in_channel,783)\n",
        "#x_train_NIR = read_spectograms(dest_nir + NIR_df.NIR_ID.values, img_rows, img_cols, as_gray, in_channel,783)"
      ],
      "execution_count": null,
      "outputs": []
    },
    {
      "cell_type": "code",
      "metadata": {
        "id": "lUGJ6O0JcKbs",
        "colab": {
          "base_uri": "https://localhost:8080/",
          "height": 17
        },
        "outputId": "696e0e64-8f49-462e-ea10-03754ad15aca"
      },
      "source": [
        "#get the predictions for the test data\n",
        "predicted_classes = model.predict([x_test_RGB, x_test_NIR])\n",
        "\n",
        "predict_df.appliance = np.argmax(predicted_classes,axis=1)\n",
        "predict_df = predict_df.drop(['RGB_ID', 'NIR_ID'], axis=1)\n",
        "predict_df.to_csv('gdrive/My Drive/submission.csv')\n",
        "\n",
        "from google.colab import files\n",
        "files.download('gdrive/My Drive/submission.csv')"
      ],
      "execution_count": null,
      "outputs": [
        {
          "output_type": "display_data",
          "data": {
            "application/javascript": [
              "\n",
              "    async function download(id, filename, size) {\n",
              "      if (!google.colab.kernel.accessAllowed) {\n",
              "        return;\n",
              "      }\n",
              "      const div = document.createElement('div');\n",
              "      const label = document.createElement('label');\n",
              "      label.textContent = `Downloading \"${filename}\": `;\n",
              "      div.appendChild(label);\n",
              "      const progress = document.createElement('progress');\n",
              "      progress.max = size;\n",
              "      div.appendChild(progress);\n",
              "      document.body.appendChild(div);\n",
              "\n",
              "      const buffers = [];\n",
              "      let downloaded = 0;\n",
              "\n",
              "      const channel = await google.colab.kernel.comms.open(id);\n",
              "      // Send a message to notify the kernel that we're ready.\n",
              "      channel.send({})\n",
              "\n",
              "      for await (const message of channel.messages) {\n",
              "        // Send a message to notify the kernel that we're ready.\n",
              "        channel.send({})\n",
              "        if (message.buffers) {\n",
              "          for (const buffer of message.buffers) {\n",
              "            buffers.push(buffer);\n",
              "            downloaded += buffer.byteLength;\n",
              "            progress.value = downloaded;\n",
              "          }\n",
              "        }\n",
              "      }\n",
              "      const blob = new Blob(buffers, {type: 'application/binary'});\n",
              "      const a = document.createElement('a');\n",
              "      a.href = window.URL.createObjectURL(blob);\n",
              "      a.download = filename;\n",
              "      div.appendChild(a);\n",
              "      a.click();\n",
              "      div.remove();\n",
              "    }\n",
              "  "
            ],
            "text/plain": [
              "<IPython.core.display.Javascript object>"
            ]
          },
          "metadata": {
            "tags": []
          }
        },
        {
          "output_type": "display_data",
          "data": {
            "application/javascript": [
              "download(\"download_4da38ff9-cb40-4569-8c13-8abf9cb9a0fa\", \"submission.csv\", 11125)"
            ],
            "text/plain": [
              "<IPython.core.display.Javascript object>"
            ]
          },
          "metadata": {
            "tags": []
          }
        }
      ]
    },
    {
      "cell_type": "code",
      "metadata": {
        "id": "JecV8OXyYKfu"
      },
      "source": [
        ""
      ],
      "execution_count": null,
      "outputs": []
    }
  ]
}